{
 "cells": [
  {
   "cell_type": "code",
   "execution_count": 1,
   "metadata": {},
   "outputs": [],
   "source": [
    "import sys\n",
    "from pathlib import Path\n",
    "import pandas as pd\n",
    "import os\n",
    "import yaml\n",
    "import glob as glob\n",
    "import xarray as xr\n",
    "import numpy as np\n",
    "import matplotlib\n",
    "import cartopy.crs as ccrs\n",
    "import cartopy.feature as cfeature\n",
    "import geopandas as gpd\n",
    "import rioxarray\n",
    "\n",
    "config_file_path = \"/home/balaji/Gitlab/config.yaml\"\n",
    "\n",
    "gitlab = '/home/balaji/Gitlab/'\n",
    "deepcyc = '/home/balaji/Gitlab/deepcyc_wind/deepcyc/'\n",
    "\n",
    "gitlab_path = os.path.join(gitlab)\n",
    "gfg_path = os.path.join(deepcyc,\"gfg\")\n",
    "reaskute_path = os.path.join(deepcyc,\"reaskute\")\n",
    "retrack_path = os.path.join(deepcyc,\"tctrack\")\n",
    "tcrain_path = os.path.join(gitlab,\"tcrain\")\n",
    "events_path = os.path.join(deepcyc,\"events\")\n",
    "\n",
    "sys.path.append(gfg_path)\n",
    "sys.path.append(retrack_path)\n",
    "sys.path.append(reaskute_path)\n",
    "sys.path.append(tcrain_path)\n",
    "sys.path.append(gitlab_path)\n",
    "sys.path.append(events_path)\n",
    "\n",
    "import RainTerrain as rt\n",
    "\n",
    "from retrack.retrack import ReTrack\n",
    "from gfg.gfg import Gfg\n",
    "from   src.Fig_ColorBars       import *\n"
   ]
  },
  {
   "cell_type": "code",
   "execution_count": 5,
   "metadata": {},
   "outputs": [],
   "source": [
    "with open(config_file_path) as f:\n",
    "        config = yaml.safe_load(f)\n",
    "\n",
    "run_dir = Path('/home/balaji/Gitlab/trackset-analysis/clients/BoA/Events/')\n",
    "output_dir = run_dir\n",
    "write_timeseries = False\n",
    "time_resolution = '1min'\n",
    "terrain_corrections = config.get('terrain_corrections', ['FT_GUST'])\n",
    "site_loc_file = config.get('site_loc', None)\n",
    "station_loc_path = config.get('station_loc_path',None)\n",
    "output_dir.mkdir(parents=True, exist_ok=True)"
   ]
  },
  {
   "cell_type": "code",
   "execution_count": 9,
   "metadata": {},
   "outputs": [],
   "source": [
    "trackset = '/mnt/slow2/balaji/DeepCyc/base/trackset'\n",
    "retrack = ReTrack(track_file=trackset,\n",
    "                      selected_sids=None)"
   ]
  },
  {
   "cell_type": "code",
   "execution_count": 20,
   "metadata": {},
   "outputs": [],
   "source": [
    "gfg = Gfg(output_dir=output_dir, full_terrain=True,\n",
    "              country_code='USA',mask_low_windspeeds=True,\n",
    "              station_loc_path=None,\n",
    "              mask_by_terrain_tile=True)"
   ]
  },
  {
   "cell_type": "code",
   "execution_count": 29,
   "metadata": {},
   "outputs": [],
   "source": [
    "SID = 'NH_AT_v4.3.2__SOURCE_ERA5_NEW__ENS_RAN__Basin_AT__SubRegion_08__Season_1981__Sample_0003__Track_00000001'\n",
    "SID = 'NH_AT_v4.3.2__SOURCE_ERA5_NEW__ENS_RAN__Basin_AT__SubRegion_10__Season_2020__Sample_0002__Track_00000018'\n",
    "SID = 'NH_AT_v4.3.2__SOURCE_ERA5_NEW__ENS_RAN__Basin_AT__SubRegion_08__Season_2012__Sample_0001__Track_00000001'\n",
    "#  TO DO\n",
    "# SID = 'NH_AT_v4.3.2__SOURCE_ERA5_NEW__ENS_RAN__Basin_AT__SubRegion_09__Season_2005__Sample_0002__Track_00000010' \n",
    "# SID = 'NH_AT_v4.3.2__SOURCE_ERA5_NEW__ENS_RAN__Basin_AT__SubRegion_08__Season_2010__Sample_0003__Track_00000003'"
   ]
  },
  {
   "cell_type": "code",
   "execution_count": 30,
   "metadata": {},
   "outputs": [],
   "source": [
    "for track_df in retrack.next():\n",
    "    if track_df.sid.unique()[0] == SID:\n",
    "        gfg.generate(track_df, time_resolution=time_resolution,terrain_corrections=terrain_corrections, write_timeseries=False)\n",
    "        break\n",
    "\n",
    "\n",
    "    "
   ]
  }
 ],
 "metadata": {
  "kernelspec": {
   "display_name": "rainmod",
   "language": "python",
   "name": "python3"
  },
  "language_info": {
   "codemirror_mode": {
    "name": "ipython",
    "version": 3
   },
   "file_extension": ".py",
   "mimetype": "text/x-python",
   "name": "python",
   "nbconvert_exporter": "python",
   "pygments_lexer": "ipython3",
   "version": "3.9.13"
  }
 },
 "nbformat": 4,
 "nbformat_minor": 2
}
